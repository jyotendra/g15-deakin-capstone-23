{
 "cells": [
  {
   "cell_type": "code",
   "execution_count": 2,
   "metadata": {},
   "outputs": [],
   "source": [
    "import pandas as pd\n",
    "\n",
    "from consts import get_region_from_city\n",
    "\n",
    "\n",
    "pd.set_option(\"display.float_format\", lambda x: \"%.2f\" % x)"
   ]
  },
  {
   "cell_type": "code",
   "execution_count": 3,
   "metadata": {},
   "outputs": [],
   "source": [
    "# these are all initial predictions from qtr-2\n",
    "price_willing_to_pay = pd.read_excel(\"sheets/qtr_2/PriceWillingToPay-Q2.xlsx\")\n",
    "market_size = pd.read_excel(\"sheets/qtr_2/MarketSize-Q2.xlsx\")\n",
    "\n",
    "size_market_join = market_size.set_index(\"City\").join(\n",
    "    price_willing_to_pay.set_index(\"City\"), lsuffix=\"_msize\", rsuffix=\"_price\"\n",
    ")\n",
    "market_value = (\n",
    "    size_market_join.assign(Region=lambda x: get_region_from_city(x.index))\n",
    "    .assign(Work=lambda x: x.Work_msize * x.Work_price)\n",
    "    .assign(Recreation=lambda x: x.Recreation_msize * x.Recreation_price)\n",
    "    .assign(Mountain=lambda x: x.Mountain_msize * x.Mountain_price)\n",
    "    .assign(Speed=lambda x: x.Speed_msize * x.Speed_price)\n",
    "    .assign(Youth=lambda x: x.Youth_msize * x.Youth_price)\n",
    "    .drop(\n",
    "        columns=[\n",
    "            \"Youth_msize\",\n",
    "            \"Work_msize\",\n",
    "            \"Recreation_msize\",\n",
    "            \"Mountain_msize\",\n",
    "            \"Speed_msize\",\n",
    "            \"Youth_price\",\n",
    "            \"Work_price\",\n",
    "            \"Recreation_price\",\n",
    "            \"Mountain_price\",\n",
    "            \"Speed_price\",\n",
    "        ]\n",
    "    )\n",
    ")\n",
    "market_value.to_excel(\"output_sheets/market_value.xlsx\")"
   ]
  },
  {
   "cell_type": "code",
   "execution_count": null,
   "metadata": {},
   "outputs": [],
   "source": []
  }
 ],
 "metadata": {
  "kernelspec": {
   "display_name": "Python 3",
   "language": "python",
   "name": "python3"
  },
  "language_info": {
   "codemirror_mode": {
    "name": "ipython",
    "version": 3
   },
   "file_extension": ".py",
   "mimetype": "text/x-python",
   "name": "python",
   "nbconvert_exporter": "python",
   "pygments_lexer": "ipython3",
   "version": "3.10.0"
  },
  "orig_nbformat": 4
 },
 "nbformat": 4,
 "nbformat_minor": 2
}
