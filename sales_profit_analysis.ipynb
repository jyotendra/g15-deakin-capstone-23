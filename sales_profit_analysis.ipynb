{
 "cells": [
  {
   "cell_type": "code",
   "execution_count": 1,
   "metadata": {},
   "outputs": [],
   "source": [
    "from typing import Tuple, List, cast\n",
    "\n",
    "import pandas as pd\n",
    "import numpy as np\n",
    "\n",
    "from consts import get_region_from_city\n",
    "from utils import batched\n",
    "\n",
    "pd.set_option(\"display.float_format\", lambda x: \"%.2f\" % x)"
   ]
  },
  {
   "cell_type": "code",
   "execution_count": 2,
   "metadata": {},
   "outputs": [],
   "source": [
    "# comparing q3, q4\n",
    "\n",
    "\n",
    "def prepare_sales_sheet(sheet_path: str):\n",
    "    sales = pd.read_excel(sheet_path)\n",
    "    sales = sales.assign(UnitProfit=lambda x: x[\"Gross Margin\"] / x[\"Unit Sold\"])\n",
    "    return sales\n",
    "\n",
    "\n",
    "def compare_sales(\n",
    "    comparison_df: pd.DataFrame, sales_params: List[Tuple[pd.DataFrame, str]]\n",
    "):\n",
    "    for b in cast(\n",
    "        List[Tuple[Tuple[pd.DataFrame, str], Tuple[pd.DataFrame, str]]],\n",
    "        batched(sales_params, 2),\n",
    "    ):\n",
    "        s1, s2 = b\n",
    "        if s2 is not None:\n",
    "            s1_df, s1_name = s1\n",
    "            s2_df, s2_name = s2\n",
    "            # fill na with 0\n",
    "            s1_df.fillna(0, inplace=True)\n",
    "            s2_df.fillna(0, inplace=True)\n",
    "            merged_sales = s2_df.set_index(\"Brand\").join(\n",
    "                s1_df.set_index(\"Brand\"), lsuffix=\"_s2\", rsuffix=\"_s1\"\n",
    "            )\n",
    "            merged_sales.fillna(0, inplace=True)\n",
    "            comparison_df[f\"{s2_name}-{s1_name}_UnitProfit\"] = (\n",
    "                merged_sales[\"UnitProfit_s2\"] - merged_sales[\"UnitProfit_s1\"]\n",
    "            )\n",
    "            comparison_df[f\"{s2_name}-{s1_name}_UnitSold\"] = (\n",
    "                merged_sales[\"Unit Sold_s2\"] - merged_sales[\"Unit Sold_s1\"]\n",
    "            )\n",
    "\n",
    "            comparison_df[f\"{s2_name}-{s1_name}_GrossMargin\"] = (\n",
    "                merged_sales[\"Gross Margin_s2\"] - merged_sales[\"Gross Margin_s1\"]\n",
    "            )\n",
    "\n",
    "            # set gross margin < 0 as 0, if UnitSold is negative, that means the product was discontinued\n",
    "            comparison_df[f\"{s2_name}-{s1_name}_GrossMargin\"] = np.where(\n",
    "                comparison_df[f\"{s2_name}-{s1_name}_UnitSold\"] < 0,\n",
    "                0,\n",
    "                comparison_df[f\"{s2_name}-{s1_name}_GrossMargin\"],\n",
    "            )\n",
    "        else:\n",
    "            pass\n",
    "    return comparison_df\n",
    "\n",
    "\n",
    "q3_sales = prepare_sales_sheet(\"sheets/qtr_4/Sales-Q3.xlsx\")\n",
    "q4_sales = prepare_sales_sheet(\"sheets/qtr_5/Sales-Q4.xlsx\")\n",
    "\n",
    "sales_to_compare: List[Tuple[pd.DataFrame, str]] = [(q3_sales, \"q3\"), (q4_sales, \"q4\")]\n",
    "sales_comparison_df = pd.DataFrame()\n",
    "compare_sales(sales_comparison_df, sales_to_compare)\n",
    "sales_comparison_df.to_excel(\"output_sheets/sales_comparison.xlsx\")"
   ]
  },
  {
   "cell_type": "code",
   "execution_count": null,
   "metadata": {},
   "outputs": [],
   "source": []
  }
 ],
 "metadata": {
  "kernelspec": {
   "display_name": "Python 3",
   "language": "python",
   "name": "python3"
  },
  "language_info": {
   "codemirror_mode": {
    "name": "ipython",
    "version": 3
   },
   "file_extension": ".py",
   "mimetype": "text/x-python",
   "name": "python",
   "nbconvert_exporter": "python",
   "pygments_lexer": "ipython3",
   "version": "3.10.0"
  },
  "orig_nbformat": 4
 },
 "nbformat": 4,
 "nbformat_minor": 2
}
